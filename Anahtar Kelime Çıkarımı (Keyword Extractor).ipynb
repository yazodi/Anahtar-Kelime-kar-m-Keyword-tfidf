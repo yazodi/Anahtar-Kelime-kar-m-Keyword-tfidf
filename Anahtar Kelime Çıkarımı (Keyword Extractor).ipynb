{
 "cells": [
  {
   "cell_type": "code",
   "execution_count": 1,
   "id": "3512f1e3-9b25-480d-a05e-c97b5ff7e69b",
   "metadata": {},
   "outputs": [
    {
     "name": "stdout",
     "output_type": "stream",
     "text": [
      "Requirement already satisfied: nltk in c:\\programdata\\anaconda3\\lib\\site-packages (3.9.1)\n",
      "Requirement already satisfied: click in c:\\programdata\\anaconda3\\lib\\site-packages (from nltk) (8.1.7)\n",
      "Requirement already satisfied: joblib in c:\\programdata\\anaconda3\\lib\\site-packages (from nltk) (1.4.2)\n",
      "Requirement already satisfied: regex>=2021.8.3 in c:\\programdata\\anaconda3\\lib\\site-packages (from nltk) (2024.11.6)\n",
      "Requirement already satisfied: tqdm in c:\\programdata\\anaconda3\\lib\\site-packages (from nltk) (4.67.1)\n",
      "Requirement already satisfied: colorama in c:\\programdata\\anaconda3\\lib\\site-packages (from click->nltk) (0.4.6)\n"
     ]
    },
    {
     "name": "stderr",
     "output_type": "stream",
     "text": [
      "[nltk_data] Downloading package stopwords to\n",
      "[nltk_data]     C:\\Users\\LGR\\AppData\\Roaming\\nltk_data...\n",
      "[nltk_data]   Package stopwords is already up-to-date!\n"
     ]
    },
    {
     "data": {
      "text/plain": [
       "True"
      ]
     },
     "execution_count": 1,
     "metadata": {},
     "output_type": "execute_result"
    }
   ],
   "source": [
    "!pip install nltk\n",
    "import nltk\n",
    "nltk.download('stopwords')\n"
   ]
  },
  {
   "cell_type": "code",
   "execution_count": 2,
   "id": "eb544cea-8faf-45d8-865b-3241852dca94",
   "metadata": {},
   "outputs": [
    {
     "name": "stdin",
     "output_type": "stream",
     "text": [
      "Metninizi girin:  By Martijn Theuwissen, DataCamp on May 26, 2015 in Data Science Tools, DataCamp, Python, Python vs R, R At DataCamp, our students often ask us whether they should use R and/or Python for their day-to-day data analysis tasks. Although we mainly offer interactive R tutorials, we always answer that this choice depends on the type of data analytical challenge that they are facing.  Both Python and R are popular programming languages for statistics.  While R’s functionality is developed with statisticians in mind (think of R's strong data visualization capabilities!), Python is often praised for its easy-to-understand syntax.  In this post, we will highlight some of the differences between R and Python, and how they both have a place in the data science and statistics world.  If you prefer a visual representation, make sure to check out the corresponding infographic ”Data Science Wars: R vs Python”.  Introducing R  Ross Ihaka and Robert Gentleman created the open-source language R in 1995 as an implementation of the S programming language. The purpose was to develop a language that focused on delivering a better and more user-friendly way to do data analysis, statistics and graphical models. At first, R was primarily used in academics and research, but lately the enterprise world is discovering R as well. This makes R one of the fastest growing statistical languages in the corporate world.  One of the main strengths of R is its huge community that provides support through mailing lists, user-contributed documentation and a very active Stack Overflow group. There is also CRAN, a huge repository of curated R packages to which users can easily contribute.  These packages are a collection of R functions and data that make it easy to immediately get access to the latest techniques and functionalities without needing to develop everything from scratch yourself.  To end, if you’re an experienced programmer, you probably won't have a hard time to get up to speed with R.  As a beginner, however, you might find yourself struggling with the steep learning curve. Luckily, there are many great learning resources you can consult nowadays.  Introducing Python  Python was created by Guido Van Rossem in 1991 and emphasizes productivity and code readability. Programmers that want to delve into data analysis or apply statistical techniques are some of the main users of Python for statistical purposes.  The closer you get to working in an engineering environment, the more likely it is you might prefer Python. It’s a flexible language that is great to do something novel, and given its focus on readability and simplicity, its learning curve is relatively low.  Similar to R, Python has packages as well. PyPi is the Python Package index and consists of libraries to which users can contribute. Just like R, Python has a great community but it is a bit more scattered, since it’s a general purpose language. Nevertheless, Python for data science is rapidly claiming a more dominant position in the Python universe: the expectations are growing and more innovative data science applications will see their origin here.  R and Python: The General Numbers  On the web, you can find many numbers comparing the adoption and popularity of R and Python. While these figures often give a good indication on how these two languages are evolving in the overall ecosystem of computer science, it’s hard to compare them side-by-side.  The main reason for this is that you will find R only in a data science environment; As a general purpose language, Python, on the other hand, is widely used in many fields, such as web development. This often biases the ranking results in favor of Python, while the salaries are affected somewhat negatively.\n"
     ]
    },
    {
     "name": "stdout",
     "output_type": "stream",
     "text": [
      "📌 En Anlamlı Anahtar Kelimeler:\n",
      "             Skor\n",
      "the      0.440146\n",
      "and      0.342336\n",
      "python   0.326034\n",
      "to       0.293431\n",
      "of       0.244525\n",
      "...           ...\n",
      "won      0.016302\n",
      "without  0.016302\n",
      "widely   0.016302\n",
      "whether  0.016302\n",
      "way      0.016302\n",
      "\n",
      "[288 rows x 1 columns]\n"
     ]
    }
   ],
   "source": [
    "from nltk.corpus import stopwords\n",
    "from sklearn.feature_extraction.text import TfidfVectorizer\n",
    "import pandas as pd\n",
    "\n",
    "# Türkçe stopword listesi\n",
    "turkish_stopwords = stopwords.words('turkish')\n",
    "\n",
    "# Kullanıcıdan metin al\n",
    "text_input = input(\"Metninizi girin: \")\n",
    "\n",
    "# TF-IDF ile analiz\n",
    "vectorizer = TfidfVectorizer(stop_words=turkish_stopwords)\n",
    "X = vectorizer.fit_transform([text_input])\n",
    "\n",
    "# Skorları göster\n",
    "df_keywords = pd.DataFrame(X.T.toarray(), index=vectorizer.get_feature_names_out(), columns=[\"Skor\"])\n",
    "df_keywords = df_keywords.sort_values(\"Skor\", ascending=False)\n",
    "\n",
    "print(\"📌 En Anlamlı Anahtar Kelimeler:\")\n",
    "print(df_keywords.head(500))\n"
   ]
  },
  {
   "cell_type": "code",
   "execution_count": 3,
   "id": "0d4ab452-c7e1-4ff6-b3f5-a2d956b95a03",
   "metadata": {},
   "outputs": [
    {
     "name": "stdout",
     "output_type": "stream",
     "text": [
      "✅ Model tfidf_model.pkl olarak kaydedildi.\n"
     ]
    }
   ],
   "source": [
    "import joblib\n",
    "from sklearn.feature_extraction.text import TfidfVectorizer\n",
    "from nltk.corpus import stopwords\n",
    "\n",
    "# Türkçe stopwords\n",
    "stop_words = stopwords.words('turkish')\n",
    "\n",
    "# Örnek eğitim (boş kalmasın diye örnek metin giriyoruz)\n",
    "texts = [\n",
    "    \"Yapay zeka günümüzde hızla gelişmektedir.\",\n",
    "    \"Doğal dil işleme teknolojileri çok yaygındır.\",\n",
    "    \"Python dili veri bilimi için güçlü bir araçtır.\"\n",
    "]\n",
    "\n",
    "# TF-IDF eğitimi\n",
    "vectorizer = TfidfVectorizer(stop_words=stop_words)\n",
    "vectorizer.fit(texts)\n",
    "\n",
    "# Kaydet\n",
    "joblib.dump(vectorizer, \"tfidf_model.pkl\")\n",
    "\n",
    "print(\"✅ Model tfidf_model.pkl olarak kaydedildi.\")\n"
   ]
  },
  {
   "cell_type": "code",
   "execution_count": null,
   "id": "14f74a91-9985-4fdb-a1f3-5613aa8da6fa",
   "metadata": {},
   "outputs": [],
   "source": []
  },
  {
   "cell_type": "code",
   "execution_count": null,
   "id": "1f62db64-31e4-4d13-89d1-e5c62656833f",
   "metadata": {},
   "outputs": [],
   "source": []
  }
 ],
 "metadata": {
  "kernelspec": {
   "display_name": "Python 3 (ipykernel)",
   "language": "python",
   "name": "python3"
  },
  "language_info": {
   "codemirror_mode": {
    "name": "ipython",
    "version": 3
   },
   "file_extension": ".py",
   "mimetype": "text/x-python",
   "name": "python",
   "nbconvert_exporter": "python",
   "pygments_lexer": "ipython3",
   "version": "3.12.9"
  }
 },
 "nbformat": 4,
 "nbformat_minor": 5
}
